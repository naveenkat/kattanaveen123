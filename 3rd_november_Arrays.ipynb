{
 "cells": [
  {
   "cell_type": "code",
   "execution_count": 1,
   "id": "a826deff-8961-4448-8ef5-1b96efb3ad84",
   "metadata": {},
   "outputs": [
    {
     "name": "stdout",
     "output_type": "stream",
     "text": [
      "False\n"
     ]
    }
   ],
   "source": [
    "#question 1\n",
    "#check if array contain duplicates or not,return true if present\n",
    "#solution\n",
    "\n",
    "def check_duplicates(arr):\n",
    "    flag=0\n",
    "    for i in range(len(arr)):\n",
    "        for j in range(i+1,len(arr)):\n",
    "            if(arr[i]==arr[j]):\n",
    "                flag=1\n",
    "                break\n",
    "    return flag\n",
    "n=[1,2,3,5,4]\n",
    "a=check_duplicates(n)\n",
    "if(a==1):\n",
    "    print(\"True\")\n",
    "else:\n",
    "    print(\"False\")\n",
    "\n",
    "            \n",
    "    "
   ]
  },
  {
   "cell_type": "code",
   "execution_count": 2,
   "id": "623c2c7a-43b3-4d08-a551-278fc17dfb05",
   "metadata": {},
   "outputs": [
    {
     "name": "stdout",
     "output_type": "stream",
     "text": [
      "[7, 8, 9, 1, 2, 3, 4, 5, 6]\n"
     ]
    }
   ],
   "source": [
    "#question 2\n",
    "#rotate the array to the right by k steps\n",
    "def rotate_array(arr,k):\n",
    "    a=k%(len(arr))\n",
    "    c=len(arr)-(a+1)\n",
    "    i=0\n",
    "    j=c\n",
    "    while(i<j):\n",
    "        arr[i],arr[j] = arr[j],arr[i]\n",
    "        i=i+1\n",
    "        j=j-1\n",
    "    i=c+1\n",
    "    j=len(arr)-1\n",
    "    while(i<j):\n",
    "        arr[i],arr[j] = arr[j],arr[i]\n",
    "        i=i+1\n",
    "        j=j-1\n",
    "    i=0\n",
    "    j=len(arr)-1\n",
    "    while(i<j):\n",
    "        arr[i],arr[j] = arr[j],arr[i]\n",
    "        i=i+1\n",
    "        j=j-1\n",
    "    return arr\n",
    "b=rotate_array([1,2,3,4,5,6,7,8,9],3)\n",
    "print(b)\n",
    "        \n",
    "        \n",
    "        \n",
    "    \n",
    "    "
   ]
  },
  {
   "cell_type": "code",
   "execution_count": 3,
   "id": "7e11d2b7-1593-456e-992b-71472e1c3d05",
   "metadata": {},
   "outputs": [
    {
     "name": "stdout",
     "output_type": "stream",
     "text": [
      "[7, 6, 5, 4, 3, 2, 1]\n"
     ]
    }
   ],
   "source": [
    "#question 3\n",
    "#reverse a given array without using extra space \n",
    "def reverse_array(arr):\n",
    "    i=0\n",
    "    j=len(arr)-1\n",
    "    while(i<j):\n",
    "        arr[i],arr[j] = arr[j],arr[i]\n",
    "        i=i+1\n",
    "        j=j-1\n",
    "    return arr\n",
    "b=reverse_array([1,2,3,4,5,6,7])\n",
    "print(b)\n",
    "        "
   ]
  },
  {
   "cell_type": "code",
   "execution_count": 4,
   "id": "8e0f1267-69d4-4187-af1e-ed2e08e61661",
   "metadata": {},
   "outputs": [
    {
     "name": "stdout",
     "output_type": "stream",
     "text": [
      "6\n"
     ]
    }
   ],
   "source": [
    "#question 4\n",
    "#find maximum element in a array\n",
    "def max_element(arr):\n",
    "    maxi=0\n",
    "    for i in range(len(arr)):\n",
    "        if(arr[i]>maxi):\n",
    "            maxi=arr[i]\n",
    "    return maxi\n",
    "b=max_element([1,2,3,4,5,6])\n",
    "print(b)"
   ]
  },
  {
   "cell_type": "code",
   "execution_count": 6,
   "id": "c882442c-a6b9-4887-8de2-e860042993b2",
   "metadata": {},
   "outputs": [
    {
     "name": "stdout",
     "output_type": "stream",
     "text": [
      "[1, 2, 3, 4]\n"
     ]
    }
   ],
   "source": [
    "#question 5\n",
    "#remove the duplicate elements in a sorted array without using extra spaceS\n",
    "l=[1,1,2,2,2,3,3,3,3,4]\n",
    "k=0\n",
    "for i in range(1,len(l)):\n",
    "    if(l[k]!=l[i]):\n",
    "        l[k+1]=l[i]\n",
    "        k=k+1\n",
    "print(l[0:k+1])"
   ]
  },
  {
   "cell_type": "code",
   "execution_count": null,
   "id": "9a27b688-8ecd-4379-a3ba-81f1234a72db",
   "metadata": {},
   "outputs": [],
   "source": []
  }
 ],
 "metadata": {
  "kernelspec": {
   "display_name": "Python 3 (ipykernel)",
   "language": "python",
   "name": "python3"
  },
  "language_info": {
   "codemirror_mode": {
    "name": "ipython",
    "version": 3
   },
   "file_extension": ".py",
   "mimetype": "text/x-python",
   "name": "python",
   "nbconvert_exporter": "python",
   "pygments_lexer": "ipython3",
   "version": "3.10.8"
  }
 },
 "nbformat": 4,
 "nbformat_minor": 5
}
